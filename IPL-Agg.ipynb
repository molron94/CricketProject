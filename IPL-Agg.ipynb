{
 "cells": [
  {
   "cell_type": "code",
   "execution_count": 1,
   "metadata": {},
   "outputs": [],
   "source": [
    "#Importing Packages\n",
    "import numpy as np\n",
    "import pandas as pd\n",
    "import matplotlib.pyplot as plt\n",
    "import statsmodels.api as sm\n",
    "from statsmodels.formula.api import ols\n"
   ]
  },
  {
   "cell_type": "code",
   "execution_count": 2,
   "metadata": {},
   "outputs": [],
   "source": [
    "#Importing data\n",
    "deliveries= pd.read_csv('deliveries.csv')\n",
    "matches= pd.read_csv('matches.csv')\n"
   ]
  },
  {
   "cell_type": "code",
   "execution_count": 3,
   "metadata": {},
   "outputs": [],
   "source": [
    "#Adding Some Columns to dfs\n",
    "\n",
    "deliveries['is_legal']= 1-((deliveries.noball_runs + deliveries.wide_runs)>.5)\n",
    "deliveries['is_dismissed']= 1- (deliveries.player_dismissed.isnull())\n",
    "deliveries['is_dot']=1*(deliveries.total_runs<.1)\n",
    "matches['win']=1*(matches.win_by_runs>0)\n"
   ]
  },
  {
   "cell_type": "code",
   "execution_count": 4,
   "metadata": {},
   "outputs": [],
   "source": [
    "#Computing some aggregates from 'deliveries', incl. inns 1 score, inns 2 score\n",
    "\n",
    "scores_dict={}\n",
    "for i in deliveries.match_id.unique():\n",
    "    \n",
    "    df_match= deliveries[deliveries.match_id==i]\n",
    "    \n",
    "    df_1= df_match[df_match.inning==1]\n",
    "    \n",
    "    df_2= df_match[df_match.inning==2]\n",
    "    \n",
    "    df_last= df_match.tail(1)\n",
    "    \n",
    "    ov= np.array(df_last.over)[0]\n",
    "    \n",
    "    ov_df= df_2[df_2.over==ov]\n",
    "    ba=sum(ov_df.is_legal)\n",
    "    \n",
    "    ov=20-ov\n",
    "    \n",
    "    ba=max(6-ba, 0)\n",
    "    \n",
    "    scores_dict[i]={}\n",
    "    \n",
    "    scores_dict[i]['id']= i\n",
    "    \n",
    "    scores_dict[i]['innings1']= df_1.total_runs.sum()\n",
    "    \n",
    "    scores_dict[i]['wickets1']= df_1.is_dismissed.sum()\n",
    "    \n",
    "    scores_dict[i]['maxover1']= max(df_1.over)\n",
    "    \n",
    "    scores_dict[i]['innings2']= df_2.total_runs.sum()\n",
    "    \n",
    "    scores_dict[i]['rem']= (scores_dict[i]['innings2']>scores_dict[i]['innings1'])*(6*ov + ba)\n",
    "    \n",
    "    scores_dict[i]['mar']= max(0,scores_dict[i]['innings2']- scores_dict[i]['innings1'])\n",
    "    +  np.round(100*(scores_dict[i]['rem']* scores_dict[i]['innings1'])/120)/100\n",
    "    "
   ]
  },
  {
   "cell_type": "code",
   "execution_count": 5,
   "metadata": {},
   "outputs": [],
   "source": [
    "#Making a df out of my aggregates\n",
    "\n",
    "scores_df= pd.DataFrame(scores_dict).T\n"
   ]
  },
  {
   "cell_type": "code",
   "execution_count": 6,
   "metadata": {},
   "outputs": [],
   "source": [
    "#Merging that df with matches\n",
    "\n",
    "match_df= pd.merge(matches, scores_df, on='id', how='right')\n"
   ]
  },
  {
   "cell_type": "code",
   "execution_count": 8,
   "metadata": {},
   "outputs": [],
   "source": [
    "#Removing rain affected matches\n",
    "\n",
    "no_rain= match_df[match_df.dl_applied==0]\n"
   ]
  },
  {
   "cell_type": "code",
   "execution_count": 9,
   "metadata": {},
   "outputs": [],
   "source": [
    "#Removing no result/tied matches\n",
    "\n",
    "no_rain=no_rain[no_rain.result=='normal']\n"
   ]
  },
  {
   "cell_type": "code",
   "execution_count": 10,
   "metadata": {},
   "outputs": [
    {
     "name": "stderr",
     "output_type": "stream",
     "text": [
      "/anaconda3/lib/python3.6/site-packages/pandas/core/computation/expressions.py:180: UserWarning: evaluating in Python space because the '+' operator is not supported by numexpr for the bool dtype, use '|' instead\n",
      "  .format(op=op_str, alt_op=unsupported[op_str]))\n"
     ]
    }
   ],
   "source": [
    "#Removing more rain affected matches\n",
    "\n",
    "no_rain['islegit']= (no_rain.wickets1>9.5) + (no_rain.maxover1>19.5)\n",
    "no_rain=no_rain[no_rain['islegit']]\n"
   ]
  },
  {
   "cell_type": "code",
   "execution_count": 11,
   "metadata": {},
   "outputs": [],
   "source": [
    "#Giving the chasing team bonus runs \n",
    "\n",
    "no_rain['adj_inn2']=no_rain.innings2+no_rain.mar\n"
   ]
  },
  {
   "cell_type": "code",
   "execution_count": 12,
   "metadata": {},
   "outputs": [],
   "source": [
    "#df of only team batting 2nd wins\n",
    "\n",
    "win2= no_rain[no_rain.win_by_wickets>0.5]\n"
   ]
  },
  {
   "cell_type": "code",
   "execution_count": 41,
   "metadata": {},
   "outputs": [],
   "source": [
    "#Creating season aggregator df\n",
    "\n",
    "season_sum = np.round(no_rain.groupby('season').mean())[['innings1', 'adj_inn2']]\n",
    "season_sum['wrt']= 100- 100*np.array((win2.groupby('season').count()/ no_rain.groupby('season').count())['id'])\n",
    "season_sum=season_sum.astype(int)\n",
    "season_sum['wrt']/=100\n",
    "season_sum['score_rate']= np.round(season_sum.innings1/ season_sum.adj_inn2, decimals=3)\n"
   ]
  },
  {
   "cell_type": "code",
   "execution_count": 42,
   "metadata": {},
   "outputs": [
    {
     "data": {
      "text/html": [
       "<div>\n",
       "<style scoped>\n",
       "    .dataframe tbody tr th:only-of-type {\n",
       "        vertical-align: middle;\n",
       "    }\n",
       "\n",
       "    .dataframe tbody tr th {\n",
       "        vertical-align: top;\n",
       "    }\n",
       "\n",
       "    .dataframe thead th {\n",
       "        text-align: right;\n",
       "    }\n",
       "</style>\n",
       "<table border=\"1\" class=\"dataframe\">\n",
       "  <thead>\n",
       "    <tr style=\"text-align: right;\">\n",
       "      <th></th>\n",
       "      <th>innings1</th>\n",
       "      <th>adj_inn2</th>\n",
       "      <th>wrt</th>\n",
       "      <th>score_rate</th>\n",
       "    </tr>\n",
       "    <tr>\n",
       "      <th>season</th>\n",
       "      <th></th>\n",
       "      <th></th>\n",
       "      <th></th>\n",
       "      <th></th>\n",
       "    </tr>\n",
       "  </thead>\n",
       "  <tbody>\n",
       "    <tr>\n",
       "      <th>2008</th>\n",
       "      <td>163</td>\n",
       "      <td>153</td>\n",
       "      <td>0.38</td>\n",
       "      <td>1.065</td>\n",
       "    </tr>\n",
       "    <tr>\n",
       "      <th>2009</th>\n",
       "      <td>150</td>\n",
       "      <td>139</td>\n",
       "      <td>0.47</td>\n",
       "      <td>1.079</td>\n",
       "    </tr>\n",
       "    <tr>\n",
       "      <th>2010</th>\n",
       "      <td>165</td>\n",
       "      <td>151</td>\n",
       "      <td>0.52</td>\n",
       "      <td>1.093</td>\n",
       "    </tr>\n",
       "    <tr>\n",
       "      <th>2011</th>\n",
       "      <td>156</td>\n",
       "      <td>142</td>\n",
       "      <td>0.46</td>\n",
       "      <td>1.099</td>\n",
       "    </tr>\n",
       "    <tr>\n",
       "      <th>2012</th>\n",
       "      <td>158</td>\n",
       "      <td>148</td>\n",
       "      <td>0.46</td>\n",
       "      <td>1.068</td>\n",
       "    </tr>\n",
       "    <tr>\n",
       "      <th>2013</th>\n",
       "      <td>157</td>\n",
       "      <td>143</td>\n",
       "      <td>0.49</td>\n",
       "      <td>1.098</td>\n",
       "    </tr>\n",
       "    <tr>\n",
       "      <th>2014</th>\n",
       "      <td>164</td>\n",
       "      <td>156</td>\n",
       "      <td>0.36</td>\n",
       "      <td>1.051</td>\n",
       "    </tr>\n",
       "    <tr>\n",
       "      <th>2015</th>\n",
       "      <td>167</td>\n",
       "      <td>154</td>\n",
       "      <td>0.57</td>\n",
       "      <td>1.084</td>\n",
       "    </tr>\n",
       "    <tr>\n",
       "      <th>2016</th>\n",
       "      <td>164</td>\n",
       "      <td>158</td>\n",
       "      <td>0.32</td>\n",
       "      <td>1.038</td>\n",
       "    </tr>\n",
       "    <tr>\n",
       "      <th>2017</th>\n",
       "      <td>167</td>\n",
       "      <td>155</td>\n",
       "      <td>0.45</td>\n",
       "      <td>1.077</td>\n",
       "    </tr>\n",
       "  </tbody>\n",
       "</table>\n",
       "</div>"
      ],
      "text/plain": [
       "        innings1  adj_inn2   wrt  score_rate\n",
       "season                                      \n",
       "2008         163       153  0.38       1.065\n",
       "2009         150       139  0.47       1.079\n",
       "2010         165       151  0.52       1.093\n",
       "2011         156       142  0.46       1.099\n",
       "2012         158       148  0.46       1.068\n",
       "2013         157       143  0.49       1.098\n",
       "2014         164       156  0.36       1.051\n",
       "2015         167       154  0.57       1.084\n",
       "2016         164       158  0.32       1.038\n",
       "2017         167       155  0.45       1.077"
      ]
     },
     "execution_count": 42,
     "metadata": {},
     "output_type": "execute_result"
    }
   ],
   "source": [
    "#displaying season aggregator with reasonable rounding\n",
    "#wrt= proportion of wins by team batting first\n",
    "#adj_inn2= innings2 score + bonus runs for finishing early\n",
    "#score_rate is innings1/adj_inn2\n",
    "\n",
    "\n",
    "np.round(season_sum, decimals=3)\n"
   ]
  },
  {
   "cell_type": "code",
   "execution_count": 38,
   "metadata": {},
   "outputs": [],
   "source": [
    "#estimating adj_inns 2 by inns 1, 2014 and after\n",
    "\n",
    "lr_model= ols(formula= 'adj_inn2~innings1', data= no_rain[no_rain.season>2013.5]).fit()\n",
    "lr_model.summary()\n",
    "\n"
   ]
  },
  {
   "cell_type": "code",
   "execution_count": 44,
   "metadata": {},
   "outputs": [],
   "source": [
    "#Estimating win rate by score rate\n",
    "win_reg= ols(formula= 'wrt~score_rate', data= season_sum).fit()\n",
    "win_reg.params\n",
    "\n"
   ]
  },
  {
   "cell_type": "code",
   "execution_count": 47,
   "metadata": {},
   "outputs": [
    {
     "data": {
      "text/html": [
       "<div>\n",
       "<style scoped>\n",
       "    .dataframe tbody tr th:only-of-type {\n",
       "        vertical-align: middle;\n",
       "    }\n",
       "\n",
       "    .dataframe tbody tr th {\n",
       "        vertical-align: top;\n",
       "    }\n",
       "\n",
       "    .dataframe thead th {\n",
       "        text-align: right;\n",
       "    }\n",
       "</style>\n",
       "<table border=\"1\" class=\"dataframe\">\n",
       "  <thead>\n",
       "    <tr style=\"text-align: right;\">\n",
       "      <th></th>\n",
       "      <th>innings1</th>\n",
       "      <th>adj_inn2</th>\n",
       "      <th>wrt</th>\n",
       "      <th>score_rate</th>\n",
       "    </tr>\n",
       "  </thead>\n",
       "  <tbody>\n",
       "    <tr>\n",
       "      <th>innings1</th>\n",
       "      <td>1.000000</td>\n",
       "      <td>0.910995</td>\n",
       "      <td>-0.067925</td>\n",
       "      <td>-0.297553</td>\n",
       "    </tr>\n",
       "    <tr>\n",
       "      <th>adj_inn2</th>\n",
       "      <td>0.910995</td>\n",
       "      <td>1.000000</td>\n",
       "      <td>-0.412153</td>\n",
       "      <td>-0.664474</td>\n",
       "    </tr>\n",
       "    <tr>\n",
       "      <th>wrt</th>\n",
       "      <td>-0.067925</td>\n",
       "      <td>-0.412153</td>\n",
       "      <td>1.000000</td>\n",
       "      <td>0.819812</td>\n",
       "    </tr>\n",
       "    <tr>\n",
       "      <th>score_rate</th>\n",
       "      <td>-0.297553</td>\n",
       "      <td>-0.664474</td>\n",
       "      <td>0.819812</td>\n",
       "      <td>1.000000</td>\n",
       "    </tr>\n",
       "  </tbody>\n",
       "</table>\n",
       "</div>"
      ],
      "text/plain": [
       "            innings1  adj_inn2       wrt  score_rate\n",
       "innings1    1.000000  0.910995 -0.067925   -0.297553\n",
       "adj_inn2    0.910995  1.000000 -0.412153   -0.664474\n",
       "wrt        -0.067925 -0.412153  1.000000    0.819812\n",
       "score_rate -0.297553 -0.664474  0.819812    1.000000"
      ]
     },
     "execution_count": 47,
     "metadata": {},
     "output_type": "execute_result"
    }
   ],
   "source": [
    "#Correlations, high corr between score rate and win rate\n",
    "season_sum.corr()"
   ]
  },
  {
   "cell_type": "code",
   "execution_count": 51,
   "metadata": {},
   "outputs": [
    {
     "data": {
      "image/png": "[encoded data removed]",
      "text/plain": [
       "<Figure size 1440x720 with 1 Axes>"
      ]
     },
     "metadata": {},
     "output_type": "display_data"
    }
   ],
   "source": [
    "#Plotting scatter of win rate, score rate, line of best fit\n",
    "\n",
    "plt.rcParams[\"figure.figsize\"] = (20,10)\n",
    "\n",
    "z= (np.array(season_agg.score_rate))\n",
    "y= np.array(season_agg.win_rate)\n",
    "plt.scatter(z, y, c='r', s=150)\n",
    "n= np.array(season_agg.index)\n",
    "plt.plot([1.04,1.1], [-2.87 + 3.086*1.04, -2.87 + 3.086*1.11] )\n",
    "\n",
    "plt.xlabel('Score Rate (r=0.82)', size= 30)\n",
    "plt.ylabel('Win Prob', size=30)\n",
    "\n",
    "plt.grid(True)\n"
   ]
  },
  {
   "cell_type": "code",
   "execution_count": 52,
   "metadata": {},
   "outputs": [
    {
     "data": {
      "image/png": "[encoded data removed]",
      "text/plain": [
       "<Figure size 1440x720 with 1 Axes>"
      ]
     },
     "metadata": {},
     "output_type": "display_data"
    }
   ],
   "source": [
    "#Bar Chart Showing how good the estimate is \n",
    "#Biggest error is around 10%, which is roughly 5 games, not a lot of deviation\n",
    "\n",
    "score_rates = np.round(100*(.216 + 3.086*(np.array(season_agg.score_rate)-1)))\n",
    "\n",
    "win_rates = np.round(100*(np.array(season_agg.win_rate)))\n",
    "indices = np.array(season_agg.index)\n",
    "width= np.ones(len(indices))/3\n",
    "#Calculate optimal width\n",
    "\n",
    "fig = plt.figure()\n",
    "ax = fig.add_subplot(111)\n",
    "ax.bar(indices-width,score_rates,width, color='b',label='-Ymin')\n",
    "ax.bar(indices,win_rates,width, color='r', label='Ymax')\n",
    "ax.set_xlabel('Year', size=30)\n",
    "ax.set_ylabel('Rates', size=30)\n",
    "plt.grid(True)\n",
    "handles, labels = ax.get_legend_handles_labels()\n",
    "ax.legend(handles, ['Projected Win Rate', 'Win Rate'], prop={'size': 18})\n",
    "\n",
    "plt.show()"
   ]
  },
  {
   "cell_type": "code",
   "execution_count": 55,
   "metadata": {},
   "outputs": [
    {
     "data": {
      "image/png": "[encoded data removed]",
      "text/plain": [
       "<Figure size 1440x720 with 1 Axes>"
      ]
     },
     "metadata": {},
     "output_type": "display_data"
    }
   ],
   "source": [
    "#Some points showing how likely you are to win with certain scores batting first, 2014 and after\n",
    "no_rain['run_group']= pd.cut(no_rain.innings1, [0,115,145,175,205,235,300])\n",
    "win_group= no_rain[no_rain.season>2013.5].groupby('run_group').mean()[['innings1', 'adj_inn2', 'win']]\n",
    "plt.scatter(win_group.innings1, win_group.win, s=200)\n",
    "plt.grid(True)\n"
   ]
  }
 ],
 "metadata": {
  "kernelspec": {
   "display_name": "Python 3",
   "language": "python",
   "name": "python3"
  },
  "language_info": {
   "codemirror_mode": {
    "name": "ipython",
    "version": 3
   },
   "file_extension": ".py",
   "mimetype": "text/x-python",
   "name": "python",
   "nbconvert_exporter": "python",
   "pygments_lexer": "ipython3",
   "version": "3.6.5"
  }
 },
 "nbformat": 4,
 "nbformat_minor": 2
}
