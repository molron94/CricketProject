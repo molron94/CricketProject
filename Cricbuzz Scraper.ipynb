{
 "cells": [
  {
   "cell_type": "code",
   "execution_count": 1,
   "metadata": {},
   "outputs": [],
   "source": [
    "bat_scoring_system= {'R': 2, 'B': -1, '4s': 1, '6s':3, 'Duck':-10}\n",
    "bowl_scoring_system={'O': 12, 'B': 2, 'M': 40,'R':-1, 'W': 25 }"
   ]
  },
  {
   "cell_type": "code",
   "execution_count": 2,
   "metadata": {},
   "outputs": [],
   "source": [
    "import requests\n",
    "from bs4 import BeautifulSoup\n",
    "import math\n",
    "import time"
   ]
  },
  {
   "cell_type": "code",
   "execution_count": 3,
   "metadata": {},
   "outputs": [],
   "source": [
    "url= 'https://www.cricbuzz.com/live-cricket-scorecard/22408/kxip-vs-dc-13th-match-indian-premier-league-2019'"
   ]
  },
  {
   "cell_type": "code",
   "execution_count": 4,
   "metadata": {},
   "outputs": [
    {
     "data": {
      "text/plain": [
       "0.9040319919586182"
      ]
     },
     "execution_count": 4,
     "metadata": {},
     "output_type": "execute_result"
    }
   ],
   "source": [
    "response= requests.get(url)\n"
   ]
  },
  {
   "cell_type": "code",
   "execution_count": 5,
   "metadata": {},
   "outputs": [
    {
     "name": "stderr",
     "output_type": "stream",
     "text": [
      "/anaconda3/lib/python3.6/site-packages/bs4/__init__.py:181: UserWarning: No parser was explicitly specified, so I'm using the best available HTML parser for this system (\"lxml\"). This usually isn't a problem, but if you run this code on another system, or in a different virtual environment, it may use a different parser and behave differently.\n",
      "\n",
      "The code that caused this warning is on line 193 of the file /anaconda3/lib/python3.6/runpy.py. To get rid of this warning, change code that looks like this:\n",
      "\n",
      " BeautifulSoup(YOUR_MARKUP})\n",
      "\n",
      "to this:\n",
      "\n",
      " BeautifulSoup(YOUR_MARKUP, \"lxml\")\n",
      "\n",
      "  markup_type=markup_type))\n"
     ]
    },
    {
     "data": {
      "text/plain": [
       "-0.06117510795593262"
      ]
     },
     "execution_count": 5,
     "metadata": {},
     "output_type": "execute_result"
    }
   ],
   "source": [
    "soup= BeautifulSoup(response.content)\n"
   ]
  },
  {
   "cell_type": "code",
   "execution_count": 6,
   "metadata": {},
   "outputs": [],
   "source": [
    "first_soup= soup.findAll(id=\"innings_1\")[0]"
   ]
  },
  {
   "cell_type": "code",
   "execution_count": 7,
   "metadata": {},
   "outputs": [],
   "source": [
    "def text_list(hst):\n",
    "    hst=str(hst)\n",
    "    counter=0\n",
    "    lis=[]\n",
    "    w=''\n",
    "    for let in hst:\n",
    "        \n",
    "        \n",
    "        if let=='<':\n",
    "            counter+=1\n",
    "            if len(w.strip())>0:\n",
    "                lis.append(w)\n",
    "            w=''\n",
    "            \n",
    "        elif let=='>':\n",
    "            counter=0\n",
    "            \n",
    "        elif counter==0:\n",
    "            w+=let\n",
    "    return lis\n",
    "            \n",
    "        \n",
    "        "
   ]
  },
  {
   "cell_type": "code",
   "execution_count": 8,
   "metadata": {},
   "outputs": [],
   "source": [
    "def bowler_scorer(bowler_dict, scoring_system=bowl_scoring_system):\n",
    "    points=0\n",
    "    for key in bowl_scoring_system.keys(): \n",
    "        points+= bowl_scoring_system[key]*bowler_dict[key]\n",
    "    if bowler_dict['W']>1:\n",
    "        points+= 10*(bowler_dict['W']-1)\n",
    "    return points\n",
    "    "
   ]
  },
  {
   "cell_type": "code",
   "execution_count": 9,
   "metadata": {},
   "outputs": [],
   "source": [
    "def bowler_dict_maker(bowl, bowl_headers=['Bowler', 'O', 'M', 'R', 'W'], scoring_system=bowl_scoring_system):\n",
    "    bowl_headers=bowl_headers\n",
    "    bowl=str(bowl)\n",
    "    bowler_dict={}\n",
    "    raw_url= str(bowl).split('''href=\"''')[1].split('''\"''')[0].split('/')[:-1]\n",
    "    bowl_text= text_list(bowl)\n",
    "    url= 'cricbuzz.com/'\n",
    "    for piece in raw_url:\n",
    "        if len(piece)>0:\n",
    "            url+=piece + '/'\n",
    "    bowler_dict['URL']=url\n",
    "    ob= bowl_text[1].split('.')\n",
    "    bowler_dict['O']=int(ob[0])\n",
    "    try: \n",
    "        bowler_dict['B']=int(ob[1])\n",
    "    except:\n",
    "        bowler_dict['B']=0\n",
    "    \n",
    "    bowler_dict[bowl_headers[0]]= bowl_text[0].split('(')[0].strip()\n",
    "\n",
    "    for i in range(2, len(bowl_headers)):\n",
    "        \n",
    "        try:\n",
    "            bowler_dict[bowl_headers[i]]=float(bowl_text[i])\n",
    "        except:\n",
    "            bowler_dict[bowl_headers[i]]=bowl_text[i]\n",
    "            \n",
    "    bowler_dict['Bowling_Points']= bowler_scorer(bowler_dict)\n",
    "            \n",
    "    return bowler_dict\n",
    "    \n",
    "    "
   ]
  },
  {
   "cell_type": "code",
   "execution_count": 10,
   "metadata": {},
   "outputs": [],
   "source": [
    "def innings_bowling_dicts(inns, soup=soup, scoring_system=bowl_scoring_system, headers=['Bowler', 'O', 'M', 'R', 'W']):\n",
    "    innings_dicts={}\n",
    "    soup= soup.findAll(id=\"innings_\"+str(inns))[0]\n",
    "    bowlers= soup.findAll(class_=\"cb-col cb-col-100 cb-ltst-wgt-hdr\")[1]\n",
    "    raw_bowlers= bowlers.findAll(class_=\"cb-col cb-col-100 cb-scrd-itms \")\n",
    "    raw_bowlers= list(filter(lambda x:len(str(x))>350, raw_bowlers))\n",
    "    url=''\n",
    "    for bowler in raw_bowlers:\n",
    "        d= bowler_dict_maker(bowler)\n",
    "        url=d['URL']\n",
    "        innings_dicts[url]=d\n",
    "        \n",
    "    return innings_dicts"
   ]
  },
  {
   "cell_type": "code",
   "execution_count": 11,
   "metadata": {},
   "outputs": [],
   "source": [
    "header_soup= soup.findAll(id=\"innings_\"+str(1))[0]\n",
    "header_soup= soup.findAll(class_='cb-col cb-col-100 cb-scrd-sub-hdr cb-bg-gray')[0]\n",
    "headers= text_list(str(header_soup))"
   ]
  },
  {
   "cell_type": "code",
   "execution_count": 12,
   "metadata": {},
   "outputs": [],
   "source": [
    "def batting_points(bat_dict, bat_scoring_system= bat_scoring_system):\n",
    "    points=0\n",
    "    if bat_dict['R']==0 and bat_dict['Method']!=\"not out\":\n",
    "        points-= abs(bat_scoring_system['Duck'])\n",
    "    points+= bat_scoring_system['R']*bat_dict['R'] + bat_scoring_system['B']*bat_dict['B'] \n",
    "    points+=bat_scoring_system['4s']*bat_dict['4s'] + bat_scoring_system['6s']*bat_dict['6s']\n",
    "    runs=bat_dict['R']\n",
    "    milestone_bonus= 5* math.ceil(((int(.01+runs/25)**2)/2))\n",
    "    points+= milestone_bonus\n",
    "    return points"
   ]
  },
  {
   "cell_type": "code",
   "execution_count": 13,
   "metadata": {},
   "outputs": [],
   "source": [
    "def batsman_dict_maker(bat, headers= headers, bat_scoring_system=bat_scoring_system):\n",
    "    bat= str(bat)\n",
    "    batsman_dict={}\n",
    "    raw_url= str(bat).split('''href=\"''')[1].split('''\"''')[0].split('/')[:-1]\n",
    "    url= 'cricbuzz.com/'\n",
    "    for piece in raw_url:\n",
    "        if len(piece)>0:\n",
    "            url+=piece + '/'\n",
    "    text= text_list(str(bat))\n",
    "    batsman_dict['URL']=url\n",
    "    batsman_dict['Method']= text[1]\n",
    "    del text[1]\n",
    "    for i in range(0, len(text)):\n",
    "        text[i]=text[i].split('(')[0].strip()\n",
    "        try:\n",
    "            batsman_dict[headers[i]]=float(text[i])\n",
    "        except:\n",
    "            batsman_dict[headers[i]]=text[i]\n",
    "    batsman_dict['Batting Points']= batting_points(batsman_dict, bat_scoring_system)\n",
    "            \n",
    "    return batsman_dict\n",
    "    \n",
    "    \n",
    "    \n",
    "            \n",
    "        \n"
   ]
  },
  {
   "cell_type": "code",
   "execution_count": 14,
   "metadata": {},
   "outputs": [],
   "source": [
    "def innings_batting_dicts(inns, soup=soup, scoring_system=bat_scoring_system):\n",
    "    innings_dicts={}\n",
    "    soup= soup.findAll(id=\"innings_\"+str(inns))[0]\n",
    "    header_soup= soup.findAll(class_='cb-col cb-col-100 cb-scrd-sub-hdr cb-bg-gray')[0]\n",
    "    headers= text_list(str(header_soup))\n",
    "    batters= soup.findAll(class_=\"cb-col cb-col-100 cb-ltst-wgt-hdr\")[0]\n",
    "    raw_batsmen= batters.findAll(class_='cb-col cb-col-100 cb-scrd-itms')\n",
    "    raw_batsmen= list(filter(lambda x:len(str(x))>350, raw_batsmen))\n",
    "    url=''\n",
    "    for batsman in raw_batsmen:\n",
    "        d= batsman_dict_maker(batsman, headers=headers, bat_scoring_system=scoring_system)\n",
    "        url=d['URL']\n",
    "        innings_dicts[url]=d\n",
    "        \n",
    "    return innings_dicts\n",
    "    \n",
    "    "
   ]
  },
  {
   "cell_type": "code",
   "execution_count": 15,
   "metadata": {},
   "outputs": [
    {
     "data": {
      "text/plain": [
       "{'cricbuzz.com/profiles/8733/': {'URL': 'cricbuzz.com/profiles/8733/',\n",
       "  'Method': 'lbw b Chris Morris',\n",
       "  'Batsman': 'Lokesh Rahul',\n",
       "  'R': 15.0,\n",
       "  'B': 11.0,\n",
       "  '4s': 2.0,\n",
       "  '6s': 1.0,\n",
       "  'SR': 136.36,\n",
       "  'Batting Points': 24.0},\n",
       " 'cricbuzz.com/profiles/10420/': {'URL': 'cricbuzz.com/profiles/10420/',\n",
       "  'Method': 'lbw b Lamichhane',\n",
       "  'Batsman': 'Sam Curran',\n",
       "  'R': 20.0,\n",
       "  'B': 10.0,\n",
       "  '4s': 3.0,\n",
       "  '6s': 1.0,\n",
       "  'SR': 200.0,\n",
       "  'Batting Points': 36.0},\n",
       " 'cricbuzz.com/profiles/2195/': {'URL': 'cricbuzz.com/profiles/2195/',\n",
       "  'Method': 'run out (Dhawan)',\n",
       "  'Batsman': 'Mayank Agarwal',\n",
       "  'R': 6.0,\n",
       "  'B': 9.0,\n",
       "  '4s': 0.0,\n",
       "  '6s': 0.0,\n",
       "  'SR': 66.67,\n",
       "  'Batting Points': 3.0},\n",
       " 'cricbuzz.com/profiles/9429/': {'URL': 'cricbuzz.com/profiles/9429/',\n",
       "  'Method': 'c Pant b Lamichhane',\n",
       "  'Batsman': 'Sarfaraz Khan',\n",
       "  'R': 39.0,\n",
       "  'B': 29.0,\n",
       "  '4s': 6.0,\n",
       "  '6s': 0.0,\n",
       "  'SR': 134.48,\n",
       "  'Batting Points': 60.0},\n",
       " 'cricbuzz.com/profiles/6349/': {'URL': 'cricbuzz.com/profiles/6349/',\n",
       "  'Method': 'c Pant b Chris Morris',\n",
       "  'Batsman': 'David Miller',\n",
       "  'R': 43.0,\n",
       "  'B': 30.0,\n",
       "  '4s': 4.0,\n",
       "  '6s': 2.0,\n",
       "  'SR': 143.33,\n",
       "  'Batting Points': 71.0},\n",
       " 'cricbuzz.com/profiles/6319/': {'URL': 'cricbuzz.com/profiles/6319/',\n",
       "  'Method': 'not out',\n",
       "  'Batsman': 'Mandeep Singh',\n",
       "  'R': 29.0,\n",
       "  'B': 21.0,\n",
       "  '4s': 2.0,\n",
       "  '6s': 1.0,\n",
       "  'SR': 138.1,\n",
       "  'Batting Points': 47.0},\n",
       " 'cricbuzz.com/profiles/9493/': {'URL': 'cricbuzz.com/profiles/9493/',\n",
       "  'Method': 'c Chris Morris b Rabada',\n",
       "  'Batsman': 'Hardus Viljoen',\n",
       "  'R': 1.0,\n",
       "  'B': 3.0,\n",
       "  '4s': 0.0,\n",
       "  '6s': 0.0,\n",
       "  'SR': 33.33,\n",
       "  'Batting Points': -1.0},\n",
       " 'cricbuzz.com/profiles/1593/': {'URL': 'cricbuzz.com/profiles/1593/',\n",
       "  'Method': 'b Chris Morris',\n",
       "  'Batsman': 'Ravichandran Ashwin',\n",
       "  'R': 3.0,\n",
       "  'B': 4.0,\n",
       "  '4s': 0.0,\n",
       "  '6s': 0.0,\n",
       "  'SR': 75.0,\n",
       "  'Batting Points': 2.0},\n",
       " 'cricbuzz.com/profiles/8796/': {'URL': 'cricbuzz.com/profiles/8796/',\n",
       "  'Method': 'c Avesh Khan b Rabada',\n",
       "  'Batsman': 'Murugan Ashwin',\n",
       "  'R': 1.0,\n",
       "  'B': 2.0,\n",
       "  '4s': 0.0,\n",
       "  '6s': 0.0,\n",
       "  'SR': 50.0,\n",
       "  'Batting Points': 0.0},\n",
       " 'cricbuzz.com/profiles/7909/': {'URL': 'cricbuzz.com/profiles/7909/',\n",
       "  'Method': 'run out (Rabada)',\n",
       "  'Batsman': 'Mohammed Shami',\n",
       "  'R': 0.0,\n",
       "  'B': 1.0,\n",
       "  '4s': 0.0,\n",
       "  '6s': 0.0,\n",
       "  'SR': 0.0,\n",
       "  'Batting Points': -11.0},\n",
       " 'cricbuzz.com/profiles/12071/': {'URL': 'cricbuzz.com/profiles/12071/',\n",
       "  'Method': 'not out',\n",
       "  'Batsman': 'Mujeeb Ur Rahman',\n",
       "  'R': 0.0,\n",
       "  'B': 0.0,\n",
       "  '4s': 0.0,\n",
       "  '6s': 0.0,\n",
       "  'SR': 0.0,\n",
       "  'Batting Points': 0.0}}"
      ]
     },
     "execution_count": 15,
     "metadata": {},
     "output_type": "execute_result"
    }
   ],
   "source": [
    "innings_batting_dicts(1)"
   ]
  },
  {
   "cell_type": "code",
   "execution_count": 16,
   "metadata": {},
   "outputs": [
    {
     "data": {
      "text/plain": [
       "{'cricbuzz.com/profiles/9585/': {'URL': 'cricbuzz.com/profiles/9585/',\n",
       "  'O': 4,\n",
       "  'B': 0,\n",
       "  'Bowler': 'Kagiso Rabada',\n",
       "  'M': 0.0,\n",
       "  'R': 32.0,\n",
       "  'W': 2.0,\n",
       "  'Bowling_Points': 76.0},\n",
       " 'cricbuzz.com/profiles/8333/': {'URL': 'cricbuzz.com/profiles/8333/',\n",
       "  'O': 4,\n",
       "  'B': 0,\n",
       "  'Bowler': 'Chris Morris',\n",
       "  'M': 0.0,\n",
       "  'R': 30.0,\n",
       "  'W': 3.0,\n",
       "  'Bowling_Points': 113.0},\n",
       " 'cricbuzz.com/profiles/9781/': {'URL': 'cricbuzz.com/profiles/9781/',\n",
       "  'O': 3,\n",
       "  'B': 0,\n",
       "  'Bowler': 'Avesh Khan',\n",
       "  'M': 0.0,\n",
       "  'R': 30.0,\n",
       "  'W': 0.0,\n",
       "  'Bowling_Points': 6.0},\n",
       " 'cricbuzz.com/profiles/11158/': {'URL': 'cricbuzz.com/profiles/11158/',\n",
       "  'O': 4,\n",
       "  'B': 0,\n",
       "  'Bowler': 'Sandeep Lamichhane',\n",
       "  'M': 0.0,\n",
       "  'R': 27.0,\n",
       "  'W': 2.0,\n",
       "  'Bowling_Points': 81.0},\n",
       " 'cricbuzz.com/profiles/8175/': {'URL': 'cricbuzz.com/profiles/8175/',\n",
       "  'O': 4,\n",
       "  'B': 0,\n",
       "  'Bowler': 'Harshal Patel',\n",
       "  'M': 0.0,\n",
       "  'R': 37.0,\n",
       "  'W': 0.0,\n",
       "  'Bowling_Points': 11.0},\n",
       " 'cricbuzz.com/profiles/8424/': {'URL': 'cricbuzz.com/profiles/8424/',\n",
       "  'O': 1,\n",
       "  'B': 0,\n",
       "  'Bowler': 'Hanuma Vihari',\n",
       "  'M': 0.0,\n",
       "  'R': 9.0,\n",
       "  'W': 0.0,\n",
       "  'Bowling_Points': 3.0}}"
      ]
     },
     "execution_count": 16,
     "metadata": {},
     "output_type": "execute_result"
    }
   ],
   "source": [
    "innings_bowling_dicts(1)"
   ]
  },
  {
   "cell_type": "code",
   "execution_count": 17,
   "metadata": {},
   "outputs": [
    {
     "data": {
      "text/plain": [
       "{'cricbuzz.com/profiles/12094/': {'URL': 'cricbuzz.com/profiles/12094/',\n",
       "  'Method': 'c Rahul b Ashwin',\n",
       "  'Batsman': 'Prithvi Shaw',\n",
       "  'R': 0.0,\n",
       "  'B': 1.0,\n",
       "  '4s': 0.0,\n",
       "  '6s': 0.0,\n",
       "  'SR': 0.0,\n",
       "  'Batting Points': -11.0},\n",
       " 'cricbuzz.com/profiles/1446/': {'URL': 'cricbuzz.com/profiles/1446/',\n",
       "  'Method': 'lbw b Ashwin',\n",
       "  'Batsman': 'Shikhar Dhawan',\n",
       "  'R': 30.0,\n",
       "  'B': 25.0,\n",
       "  '4s': 4.0,\n",
       "  '6s': 0.0,\n",
       "  'SR': 120.0,\n",
       "  'Batting Points': 44.0},\n",
       " 'cricbuzz.com/profiles/9428/': {'URL': 'cricbuzz.com/profiles/9428/',\n",
       "  'Method': ' b Viljoen',\n",
       "  'Batsman': 'Shreyas Iyer',\n",
       "  'R': 28.0,\n",
       "  'B': 22.0,\n",
       "  '4s': 5.0,\n",
       "  '6s': 0.0,\n",
       "  'SR': 127.27,\n",
       "  'Batting Points': 44.0},\n",
       " 'cricbuzz.com/profiles/10744/': {'URL': 'cricbuzz.com/profiles/10744/',\n",
       "  'Method': ' b Shami',\n",
       "  'Batsman': 'Rishabh Pant',\n",
       "  'R': 39.0,\n",
       "  'B': 26.0,\n",
       "  '4s': 3.0,\n",
       "  '6s': 2.0,\n",
       "  'SR': 150.0,\n",
       "  'Batting Points': 66.0},\n",
       " 'cricbuzz.com/profiles/7664/': {'URL': 'cricbuzz.com/profiles/7664/',\n",
       "  'Method': 'c (sub)Nair b Sam Curran',\n",
       "  'Batsman': 'Colin Ingram',\n",
       "  'R': 38.0,\n",
       "  'B': 29.0,\n",
       "  '4s': 4.0,\n",
       "  '6s': 1.0,\n",
       "  'SR': 131.03,\n",
       "  'Batting Points': 59.0},\n",
       " 'cricbuzz.com/profiles/8333/': {'URL': 'cricbuzz.com/profiles/8333/',\n",
       "  'Method': 'run out (Ashwin) ',\n",
       "  'Batsman': 'Chris Morris',\n",
       "  'R': 0.0,\n",
       "  'B': 1.0,\n",
       "  '4s': 0.0,\n",
       "  '6s': 0.0,\n",
       "  'SR': 0.0,\n",
       "  'Batting Points': -11.0},\n",
       " 'cricbuzz.com/profiles/8424/': {'URL': 'cricbuzz.com/profiles/8424/',\n",
       "  'Method': ' b Shami',\n",
       "  'Batsman': 'Hanuma Vihari',\n",
       "  'R': 2.0,\n",
       "  'B': 5.0,\n",
       "  '4s': 0.0,\n",
       "  '6s': 0.0,\n",
       "  'SR': 40.0,\n",
       "  'Batting Points': -1.0},\n",
       " 'cricbuzz.com/profiles/8175/': {'URL': 'cricbuzz.com/profiles/8175/',\n",
       "  'Method': 'c Rahul b Sam Curran',\n",
       "  'Batsman': 'Harshal Patel',\n",
       "  'R': 0.0,\n",
       "  'B': 2.0,\n",
       "  '4s': 0.0,\n",
       "  '6s': 0.0,\n",
       "  'SR': 0.0,\n",
       "  'Batting Points': -12.0},\n",
       " 'cricbuzz.com/profiles/9585/': {'URL': 'cricbuzz.com/profiles/9585/',\n",
       "  'Method': ' b Sam Curran',\n",
       "  'Batsman': 'Kagiso Rabada',\n",
       "  'R': 0.0,\n",
       "  'B': 1.0,\n",
       "  '4s': 0.0,\n",
       "  '6s': 0.0,\n",
       "  'SR': 0.0,\n",
       "  'Batting Points': -11.0},\n",
       " 'cricbuzz.com/profiles/9781/': {'URL': 'cricbuzz.com/profiles/9781/',\n",
       "  'Method': 'not out',\n",
       "  'Batsman': 'Avesh Khan',\n",
       "  'R': 4.0,\n",
       "  'B': 3.0,\n",
       "  '4s': 1.0,\n",
       "  '6s': 0.0,\n",
       "  'SR': 133.33,\n",
       "  'Batting Points': 6.0},\n",
       " 'cricbuzz.com/profiles/11158/': {'URL': 'cricbuzz.com/profiles/11158/',\n",
       "  'Method': ' b Sam Curran',\n",
       "  'Batsman': 'Sandeep Lamichhane',\n",
       "  'R': 0.0,\n",
       "  'B': 1.0,\n",
       "  '4s': 0.0,\n",
       "  '6s': 0.0,\n",
       "  'SR': 0.0,\n",
       "  'Batting Points': -11.0}}"
      ]
     },
     "execution_count": 17,
     "metadata": {},
     "output_type": "execute_result"
    }
   ],
   "source": [
    "innings_batting_dicts(2)"
   ]
  },
  {
   "cell_type": "code",
   "execution_count": 18,
   "metadata": {},
   "outputs": [
    {
     "data": {
      "text/plain": [
       "{'cricbuzz.com/profiles/1593/': {'URL': 'cricbuzz.com/profiles/1593/',\n",
       "  'O': 4,\n",
       "  'B': 0,\n",
       "  'Bowler': 'Ravichandran Ashwin',\n",
       "  'M': 0.0,\n",
       "  'R': 31.0,\n",
       "  'W': 2.0,\n",
       "  'Bowling_Points': 77.0},\n",
       " 'cricbuzz.com/profiles/10420/': {'URL': 'cricbuzz.com/profiles/10420/',\n",
       "  'O': 2,\n",
       "  'B': 2,\n",
       "  'Bowler': 'Sam Curran',\n",
       "  'M': 0.0,\n",
       "  'R': 11.0,\n",
       "  'W': 4.0,\n",
       "  'Bowling_Points': 147.0},\n",
       " 'cricbuzz.com/profiles/7909/': {'URL': 'cricbuzz.com/profiles/7909/',\n",
       "  'O': 4,\n",
       "  'B': 0,\n",
       "  'Bowler': 'Mohammed Shami',\n",
       "  'M': 0.0,\n",
       "  'R': 27.0,\n",
       "  'W': 2.0,\n",
       "  'Bowling_Points': 81.0},\n",
       " 'cricbuzz.com/profiles/9493/': {'URL': 'cricbuzz.com/profiles/9493/',\n",
       "  'O': 3,\n",
       "  'B': 0,\n",
       "  'Bowler': 'Hardus Viljoen',\n",
       "  'M': 0.0,\n",
       "  'R': 22.0,\n",
       "  'W': 1.0,\n",
       "  'Bowling_Points': 39.0},\n",
       " 'cricbuzz.com/profiles/12071/': {'URL': 'cricbuzz.com/profiles/12071/',\n",
       "  'O': 4,\n",
       "  'B': 0,\n",
       "  'Bowler': 'Mujeeb Ur Rahman',\n",
       "  'M': 0.0,\n",
       "  'R': 36.0,\n",
       "  'W': 0.0,\n",
       "  'Bowling_Points': 12.0},\n",
       " 'cricbuzz.com/profiles/8796/': {'URL': 'cricbuzz.com/profiles/8796/',\n",
       "  'O': 2,\n",
       "  'B': 0,\n",
       "  'Bowler': 'Murugan Ashwin',\n",
       "  'M': 0.0,\n",
       "  'R': 19.0,\n",
       "  'W': 0.0,\n",
       "  'Bowling_Points': 5.0}}"
      ]
     },
     "execution_count": 18,
     "metadata": {},
     "output_type": "execute_result"
    }
   ],
   "source": [
    "innings_bowling_dicts(2)"
   ]
  },
  {
   "cell_type": "code",
   "execution_count": null,
   "metadata": {},
   "outputs": [],
   "source": []
  }
 ],
 "metadata": {
  "kernelspec": {
   "display_name": "Python 3",
   "language": "python",
   "name": "python3"
  },
  "language_info": {
   "codemirror_mode": {
    "name": "ipython",
    "version": 3
   },
   "file_extension": ".py",
   "mimetype": "text/x-python",
   "name": "python",
   "nbconvert_exporter": "python",
   "pygments_lexer": "ipython3",
   "version": "3.6.5"
  }
 },
 "nbformat": 4,
 "nbformat_minor": 2
}
